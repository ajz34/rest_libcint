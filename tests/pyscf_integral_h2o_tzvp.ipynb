{
 "cells": [
  {
   "cell_type": "code",
   "execution_count": 1,
   "id": "db0c8a18-94fe-45c2-b806-3b5609cb381d",
   "metadata": {},
   "outputs": [],
   "source": [
    "from pyscf import gto, lib\n",
    "import numpy as np\n",
    "import itertools\n",
    "\n",
    "np.set_printoptions(16)"
   ]
  },
  {
   "cell_type": "code",
   "execution_count": 2,
   "id": "bbedbed7-f924-41fe-bcac-9210e1419b5b",
   "metadata": {},
   "outputs": [
    {
     "data": {
      "text/plain": [
       "32"
      ]
     },
     "execution_count": 2,
     "metadata": {},
     "output_type": "execute_result"
    }
   ],
   "source": [
    "lib.num_threads(32)"
   ]
  },
  {
   "cell_type": "code",
   "execution_count": 3,
   "id": "968ab6d4-85bf-4820-b9aa-50cab48b222c",
   "metadata": {},
   "outputs": [],
   "source": [
    "mol = gto.Mole(atom=\"O; H 1 0.94; H 1 0.94 2 104.5\", basis=\"def2-TZVP\").build()"
   ]
  },
  {
   "cell_type": "code",
   "execution_count": 4,
   "id": "6cb29477-bc7a-4f16-8506-c5694f34ebf4",
   "metadata": {},
   "outputs": [
    {
     "data": {
      "text/plain": [
       "(43, (19, 1))"
      ]
     },
     "execution_count": 4,
     "metadata": {},
     "output_type": "execute_result"
    }
   ],
   "source": [
    "nshl = mol.nbas, 1\n",
    "nao = mol.nao\n",
    "nao, nshl"
   ]
  },
  {
   "cell_type": "markdown",
   "id": "c4b3c20d-b505-4d7b-bd52-8c0f0c36717c",
   "metadata": {},
   "source": [
    "## test_int3c2e_s1_full"
   ]
  },
  {
   "cell_type": "code",
   "execution_count": 5,
   "id": "8857c507-c57a-4808-aef7-be2d2e0974f7",
   "metadata": {},
   "outputs": [
    {
     "name": "stdout",
     "output_type": "stream",
     "text": [
      "5372.255349662842\n",
      "549.9144320716556\n"
     ]
    }
   ],
   "source": [
    "out = mol.intor(\"int3c2e\")\n",
    "out_c = out.transpose(2, 1, 0)\n",
    "assert out_c.flags.c_contiguous\n",
    "scale = np.linspace(-1, 1, out.size)\n",
    "print(out_c.sum())\n",
    "print((out_c.flatten() * scale).sum())"
   ]
  },
  {
   "cell_type": "markdown",
   "id": "bb04a3d8-9b68-4ff1-97f8-f57e53c191a7",
   "metadata": {},
   "source": [
    "## int3c2e_s1_slice"
   ]
  },
  {
   "cell_type": "code",
   "execution_count": 6,
   "id": "d90be441-d63e-43b9-9a56-c1f2a2c78506",
   "metadata": {},
   "outputs": [
    {
     "name": "stdout",
     "output_type": "stream",
     "text": [
      "2061.267953944021\n",
      "301.27148204542175\n"
     ]
    }
   ],
   "source": [
    "out = mol.intor(\"int3c2e\", shls_slice=(3, 15, 6, 12, 2, 18))\n",
    "out_c = out.transpose(2, 1, 0)\n",
    "assert out_c.flags.c_contiguous\n",
    "scale = np.linspace(-1, 1, out.size)\n",
    "print(out_c.sum())\n",
    "print((out_c.flatten() * scale).sum())"
   ]
  },
  {
   "cell_type": "markdown",
   "id": "3b1b214f-7009-4838-bdb8-03f4514deb2f",
   "metadata": {},
   "source": [
    "## int3c2e_ip1_s1_slice"
   ]
  },
  {
   "cell_type": "code",
   "execution_count": 7,
   "id": "2903d810-a2bc-4a57-bb69-cabeb54a527f",
   "metadata": {},
   "outputs": [
    {
     "name": "stdout",
     "output_type": "stream",
     "text": [
      "-708.4938257710874\n",
      "-206.84642420675885\n"
     ]
    }
   ],
   "source": [
    "out = mol.intor(\"int3c2e_ip1\", shls_slice=(3, 15, 6, 12, 2, 18))\n",
    "out_c = out.transpose(0, 3, 2, 1)\n",
    "assert out_c.flags.c_contiguous\n",
    "scale = np.linspace(-1, 1, out.size)\n",
    "print(out_c.sum())\n",
    "print((out_c.flatten() * scale).sum())"
   ]
  },
  {
   "cell_type": "markdown",
   "id": "65c7df31-1071-4118-af46-dd2c4421d2f4",
   "metadata": {},
   "source": [
    "## int2c2e_ip1_s1_slice"
   ]
  },
  {
   "cell_type": "code",
   "execution_count": 8,
   "id": "7f2d59f2-e2f1-4447-bb66-903fe5a949a4",
   "metadata": {},
   "outputs": [
    {
     "name": "stdout",
     "output_type": "stream",
     "text": [
      "-133.92961573356592\n",
      "13.149333776387465\n"
     ]
    }
   ],
   "source": [
    "out = mol.intor(\"int2c2e_ip1\", shls_slice=(3, 15, 6, 12))\n",
    "out_c = out.transpose(0, 2, 1)\n",
    "assert out_c.flags.c_contiguous\n",
    "scale = np.linspace(-1, 1, out.size)\n",
    "print(out_c.sum())\n",
    "print((out_c.flatten() * scale).sum())"
   ]
  },
  {
   "cell_type": "markdown",
   "id": "c061f12e-d060-4eb0-9e57-9664a4b449c9",
   "metadata": {},
   "source": [
    "## int2c2e_ip1ip2_s1_slice"
   ]
  },
  {
   "cell_type": "code",
   "execution_count": 9,
   "id": "3d1640a6-32fb-4195-81f9-f55756684158",
   "metadata": {},
   "outputs": [
    {
     "name": "stdout",
     "output_type": "stream",
     "text": [
      "754.4717054716847\n",
      "153.0307989722583\n"
     ]
    }
   ],
   "source": [
    "out = mol.intor(\"int2e_ip1ip2\", shls_slice=(3, 15, 6, 12, 2, 18, 7, 11))\n",
    "out_c = out.transpose(0, 4, 3, 2, 1).copy()\n",
    "assert out_c.flags.c_contiguous\n",
    "scale = np.linspace(-1, 1, out.size)\n",
    "print(out_c.sum())\n",
    "print((out_c.flatten() * scale).sum())"
   ]
  },
  {
   "cell_type": "markdown",
   "id": "4af6f9e7-2039-40ba-9f2e-b1618ceadc4d",
   "metadata": {},
   "source": [
    "## int3c2e_s2ij_full"
   ]
  },
  {
   "cell_type": "code",
   "execution_count": 10,
   "id": "fd21002e-7191-466a-acaf-2ff855dca892",
   "metadata": {},
   "outputs": [
    {
     "name": "stdout",
     "output_type": "stream",
     "text": [
      "3505.0701294680757\n",
      "354.77408197530985\n"
     ]
    }
   ],
   "source": [
    "out = mol.intor(\"int3c2e\", aosym=\"s2ij\")\n",
    "out_c = out.transpose(1, 0)\n",
    "assert out_c.flags.c_contiguous\n",
    "scale = np.linspace(-1, 1, out.size)\n",
    "print(out_c.sum())\n",
    "print((out_c.flatten() * scale).sum())"
   ]
  },
  {
   "cell_type": "markdown",
   "id": "ac57a69e-472a-4775-b50a-fba2682ec223",
   "metadata": {},
   "source": [
    "## int3c2e_ip2_s2ij_slice"
   ]
  },
  {
   "cell_type": "code",
   "execution_count": 11,
   "id": "6015e9a8-fe97-4df7-8720-719127cae1f9",
   "metadata": {},
   "outputs": [
    {
     "name": "stdout",
     "output_type": "stream",
     "text": [
      "484.24278790302156\n",
      "-85.4382604552415\n"
     ]
    }
   ],
   "source": [
    "out = mol.intor(\"int3c2e_ip2\", shls_slice=(0, 15, 0, 15, 6, 12), aosym=\"s2ij\")\n",
    "out_c = out.transpose(0, 2, 1)\n",
    "assert out_c.flags.c_contiguous\n",
    "scale = np.linspace(-1, 1, out.size)\n",
    "print(out_c.sum())\n",
    "print((out_c.flatten() * scale).sum())"
   ]
  },
  {
   "cell_type": "markdown",
   "id": "1bc4c723-6a26-4b90-8849-9bf4ebdebd68",
   "metadata": {},
   "source": [
    "**Note** In pyscf, it seems that `s2ij` in `getints3c`, starting shell should always zero, otherwise it may not seems to be correct."
   ]
  },
  {
   "cell_type": "markdown",
   "id": "ea9933a0-cea9-4725-bb33-ed3bfffb8b37",
   "metadata": {},
   "source": [
    "## int2e_ip2_s2ij_slice"
   ]
  },
  {
   "cell_type": "code",
   "execution_count": 12,
   "id": "fe243763-5856-430c-a47c-af9a5623e064",
   "metadata": {},
   "outputs": [
    {
     "name": "stdout",
     "output_type": "stream",
     "text": [
      "-290.5233235501449\n",
      "-178.07946594201977\n"
     ]
    }
   ],
   "source": [
    "out = mol.intor(\"int2e_ip2\", shls_slice=(3, 15, 3, 15, 6, 12, 7, 11), aosym=\"s2ij\")\n",
    "out_c = out.transpose(0, 3, 2, 1).copy()\n",
    "assert out_c.flags.c_contiguous\n",
    "scale = np.linspace(-1, 1, out.size)\n",
    "print(out_c.sum())\n",
    "print((out_c.flatten() * scale).sum())"
   ]
  },
  {
   "cell_type": "markdown",
   "id": "f865dd97-0223-46d2-8896-6d77de9d0711",
   "metadata": {},
   "source": [
    "## int2c2e_s2ij_slice"
   ]
  },
  {
   "cell_type": "code",
   "execution_count": 13,
   "id": "085658c3-33e4-48ea-89f6-e2c4a872faf9",
   "metadata": {},
   "outputs": [
    {
     "name": "stdout",
     "output_type": "stream",
     "text": [
      "929.2845254621801\n",
      "77.98393796393151\n"
     ]
    }
   ],
   "source": [
    "out = mol.intor(\"int2c2e\", shls_slice=(3, 15, 3, 15), aosym=\"s2ij\")\n",
    "out_c = out[np.tril_indices(out.shape[0])]\n",
    "assert out_c.flags.c_contiguous\n",
    "scale = np.linspace(-1, 1, out_c.size)\n",
    "print(out_c.sum())\n",
    "print((out_c.flatten() * scale).sum())"
   ]
  },
  {
   "cell_type": "markdown",
   "id": "aed668ed-12ae-4a76-8042-afde6d664c57",
   "metadata": {},
   "source": [
    "## Molecule information"
   ]
  },
  {
   "cell_type": "code",
   "execution_count": 14,
   "id": "da3326d3-396f-49e5-bc75-2d8b84e2bbbe",
   "metadata": {},
   "outputs": [],
   "source": [
    "np.set_printoptions(threshold=1e15)"
   ]
  },
  {
   "cell_type": "code",
   "execution_count": 15,
   "id": "f55eb215-f3da-445b-b43c-1d01e5cd6c84",
   "metadata": {},
   "outputs": [
    {
     "data": {
      "text/plain": [
       "array([[ 8, 20,  1, 23,  0,  0],\n",
       "       [ 1, 24,  1, 27,  0,  0],\n",
       "       [ 1, 28,  1, 31,  0,  0]], dtype=int32)"
      ]
     },
     "execution_count": 15,
     "metadata": {},
     "output_type": "execute_result"
    }
   ],
   "source": [
    "mol._atm"
   ]
  },
  {
   "cell_type": "code",
   "execution_count": 16,
   "id": "ed9e2a10-5cd7-40af-82a2-e3ce93e7cffc",
   "metadata": {},
   "outputs": [
    {
     "data": {
      "text/plain": [
       "array([[ 0,  0,  6,  1,  0, 44, 50,  0],\n",
       "       [ 0,  0,  2,  1,  0, 56, 58,  0],\n",
       "       [ 0,  0,  1,  1,  0, 60, 61,  0],\n",
       "       [ 0,  0,  1,  1,  0, 62, 63,  0],\n",
       "       [ 0,  0,  1,  1,  0, 64, 65,  0],\n",
       "       [ 0,  1,  4,  1,  0, 66, 70,  0],\n",
       "       [ 0,  1,  1,  1,  0, 74, 75,  0],\n",
       "       [ 0,  1,  1,  1,  0, 76, 77,  0],\n",
       "       [ 0,  2,  1,  1,  0, 78, 79,  0],\n",
       "       [ 0,  2,  1,  1,  0, 80, 81,  0],\n",
       "       [ 0,  3,  1,  1,  0, 82, 83,  0],\n",
       "       [ 1,  0,  3,  1,  0, 32, 35,  0],\n",
       "       [ 1,  0,  1,  1,  0, 38, 39,  0],\n",
       "       [ 1,  0,  1,  1,  0, 40, 41,  0],\n",
       "       [ 1,  1,  1,  1,  0, 42, 43,  0],\n",
       "       [ 2,  0,  3,  1,  0, 32, 35,  0],\n",
       "       [ 2,  0,  1,  1,  0, 38, 39,  0],\n",
       "       [ 2,  0,  1,  1,  0, 40, 41,  0],\n",
       "       [ 2,  1,  1,  1,  0, 42, 43,  0]], dtype=int32)"
      ]
     },
     "execution_count": 16,
     "metadata": {},
     "output_type": "execute_result"
    }
   ],
   "source": [
    "mol._bas"
   ]
  },
  {
   "cell_type": "code",
   "execution_count": 17,
   "id": "418ed411-8b5f-494b-8600-e8f1d0efae22",
   "metadata": {},
   "outputs": [
    {
     "data": {
      "text/plain": [
       "array([ 0.0000000000000000e+00,  0.0000000000000000e+00,\n",
       "        0.0000000000000000e+00,  0.0000000000000000e+00,\n",
       "        0.0000000000000000e+00,  0.0000000000000000e+00,\n",
       "        0.0000000000000000e+00,  0.0000000000000000e+00,\n",
       "        0.0000000000000000e+00,  0.0000000000000000e+00,\n",
       "        0.0000000000000000e+00,  0.0000000000000000e+00,\n",
       "        0.0000000000000000e+00,  0.0000000000000000e+00,\n",
       "        0.0000000000000000e+00,  0.0000000000000000e+00,\n",
       "        0.0000000000000000e+00,  0.0000000000000000e+00,\n",
       "        0.0000000000000000e+00,  0.0000000000000000e+00,\n",
       "        0.0000000000000000e+00,  0.0000000000000000e+00,\n",
       "        0.0000000000000000e+00,  0.0000000000000000e+00,\n",
       "        1.7763425570911580e+00,  0.0000000000000000e+00,\n",
       "        0.0000000000000000e+00,  0.0000000000000000e+00,\n",
       "       -4.4476065664656128e-01,  0.0000000000000000e+00,\n",
       "        1.7197618551510188e+00,  0.0000000000000000e+00,\n",
       "        3.4061340999999999e+01,  5.1235746000000004e+00,\n",
       "        1.1646626000000000e+00,  9.0618446120248586e-01,\n",
       "        1.6354784928239057e+00,  2.4145128304249659e+00,\n",
       "        3.2723041000000003e-01,  1.0930883523645869e+00,\n",
       "        1.0307241000000000e-01,  4.5959135109675275e-01,\n",
       "        8.0000000000000004e-01,  2.2072263710762661e+00,\n",
       "        2.7032382631000000e+04,  4.0523871392000001e+03,\n",
       "        9.2232722709999996e+02,  2.6124070989000001e+02,\n",
       "        8.5354641350999998e+01,  3.1035035245000000e+01,\n",
       "        3.0481181169845928e+00,  5.6914576328642115e+00,\n",
       "        9.7338835744432526e+00,  1.5238733819733028e+01,\n",
       "        2.0843228934131737e+01,  2.2391049059992991e+01,\n",
       "        1.2260860728000001e+01,  4.9987076005000004e+00,\n",
       "        1.0568131135849375e+01,  3.3391469496791393e+00,\n",
       "        1.1703108158000000e+00,  2.8427648592056753e+00,\n",
       "        4.6474740994000002e-01,  1.4220922112658689e+00,\n",
       "        1.8504536357000001e-01,  7.1280983010446131e-01,\n",
       "        6.3274954801000000e+01,  1.4627049379000001e+01,\n",
       "        4.4501223455999996e+00,  1.5275799646999999e+00,\n",
       "        6.2570323747894276e+00,  6.9268656235998423e+00,\n",
       "        6.0323599265415284e+00,  3.5035168827833356e+00,\n",
       "        5.2935117942999999e-01,  1.3172379939563448e+00,\n",
       "        1.7478421270000000e-01,  3.2969483673949351e-01,\n",
       "        2.3140000000000001e+00,  1.1328313432935008e+01,\n",
       "        6.4500000000000002e-01,  1.2113199965714336e+00,\n",
       "        1.4279999999999999e+00,  4.3969226782656516e+00])"
      ]
     },
     "execution_count": 17,
     "metadata": {},
     "output_type": "execute_result"
    }
   ],
   "source": [
    "mol._env"
   ]
  },
  {
   "cell_type": "code",
   "execution_count": 18,
   "id": "ed831b11-b8da-4ac3-ae9e-114855c54dcf",
   "metadata": {},
   "outputs": [
    {
     "name": "stdout",
     "output_type": "stream",
     "text": [
      "Architecture:            x86_64\n",
      "  CPU op-mode(s):        32-bit, 64-bit\n",
      "  Address sizes:         48 bits physical, 48 bits virtual\n",
      "  Byte Order:            Little Endian\n",
      "CPU(s):                  32\n",
      "  On-line CPU(s) list:   0-31\n",
      "Vendor ID:               AuthenticAMD\n",
      "  Model name:            AMD Ryzen 9 7945HX with Radeon Graphics\n",
      "    CPU family:          25\n",
      "    Model:               97\n",
      "    Thread(s) per core:  2\n",
      "    Core(s) per socket:  16\n",
      "    Socket(s):           1\n",
      "    Stepping:            2\n",
      "    Frequency boost:     enabled\n",
      "    CPU max MHz:         5461.0000\n",
      "    CPU min MHz:         400.0000\n",
      "    BogoMIPS:            4990.87\n",
      "    Flags:               fpu vme de pse tsc msr pae mce cx8 apic sep mtrr pge mc\n",
      "                         a cmov pat pse36 clflush mmx fxsr sse sse2 ht syscall n\n",
      "                         x mmxext fxsr_opt pdpe1gb rdtscp lm constant_tsc rep_go\n",
      "                         od amd_lbr_v2 nopl nonstop_tsc cpuid extd_apicid aperfm\n",
      "                         perf rapl pni pclmulqdq monitor ssse3 fma cx16 sse4_1 s\n",
      "                         se4_2 x2apic movbe popcnt aes xsave avx f16c rdrand lah\n",
      "                         f_lm cmp_legacy svm extapic cr8_legacy abm sse4a misali\n",
      "                         gnsse 3dnowprefetch osvw ibs skinit wdt tce topoext per\n",
      "                         fctr_core perfctr_nb bpext perfctr_llc mwaitx cpb cat_l\n",
      "                         3 cdp_l3 hw_pstate ssbd mba perfmon_v2 ibrs ibpb stibp \n",
      "                         ibrs_enhanced vmmcall fsgsbase bmi1 avx2 smep bmi2 erms\n",
      "                          invpcid cqm rdt_a avx512f avx512dq rdseed adx smap avx\n",
      "                         512ifma clflushopt clwb avx512cd sha_ni avx512bw avx512\n",
      "                         vl xsaveopt xsavec xgetbv1 xsaves cqm_llc cqm_occup_llc\n",
      "                          cqm_mbm_total cqm_mbm_local avx512_bf16 clzero irperf \n",
      "                         xsaveerptr rdpru wbnoinvd cppc arat npt lbrv svm_lock n\n",
      "                         rip_save tsc_scale vmcb_clean flushbyasid decodeassists\n",
      "                          pausefilter pfthreshold avic v_vmsave_vmload vgif x2av\n",
      "                         ic v_spec_ctrl vnmi avx512vbmi umip pku ospke avx512_vb\n",
      "                         mi2 gfni vaes vpclmulqdq avx512_vnni avx512_bitalg avx5\n",
      "                         12_vpopcntdq rdpid overflow_recov succor smca fsrm flus\n",
      "                         h_l1d\n",
      "Virtualization features: \n",
      "  Virtualization:        AMD-V\n",
      "Caches (sum of all):     \n",
      "  L1d:                   512 KiB (16 instances)\n",
      "  L1i:                   512 KiB (16 instances)\n",
      "  L2:                    16 MiB (16 instances)\n",
      "  L3:                    64 MiB (2 instances)\n",
      "NUMA:                    \n",
      "  NUMA node(s):          1\n",
      "  NUMA node0 CPU(s):     0-31\n",
      "Vulnerabilities:         \n",
      "  Gather data sampling:  Not affected\n",
      "  Itlb multihit:         Not affected\n",
      "  L1tf:                  Not affected\n",
      "  Mds:                   Not affected\n",
      "  Meltdown:              Not affected\n",
      "  Mmio stale data:       Not affected\n",
      "  Retbleed:              Not affected\n",
      "  Spec rstack overflow:  Vulnerable: Safe RET, no microcode\n",
      "  Spec store bypass:     Mitigation; Speculative Store Bypass disabled via prctl\n",
      "  Spectre v1:            Mitigation; usercopy/swapgs barriers and __user pointer\n",
      "                          sanitization\n",
      "  Spectre v2:            Mitigation; Enhanced / Automatic IBRS; IBPB conditional\n",
      "                         ; STIBP always-on; RSB filling; PBRSB-eIBRS Not affecte\n",
      "                         d; BHI Not affected\n",
      "  Srbds:                 Not affected\n",
      "  Tsx async abort:       Not affected\n"
     ]
    }
   ],
   "source": [
    "! lscpu"
   ]
  }
 ],
 "metadata": {
  "kernelspec": {
   "display_name": "Python 3 (ipykernel)",
   "language": "python",
   "name": "python3"
  },
  "language_info": {
   "codemirror_mode": {
    "name": "ipython",
    "version": 3
   },
   "file_extension": ".py",
   "mimetype": "text/x-python",
   "name": "python",
   "nbconvert_exporter": "python",
   "pygments_lexer": "ipython3",
   "version": "3.10.14"
  }
 },
 "nbformat": 4,
 "nbformat_minor": 5
}
